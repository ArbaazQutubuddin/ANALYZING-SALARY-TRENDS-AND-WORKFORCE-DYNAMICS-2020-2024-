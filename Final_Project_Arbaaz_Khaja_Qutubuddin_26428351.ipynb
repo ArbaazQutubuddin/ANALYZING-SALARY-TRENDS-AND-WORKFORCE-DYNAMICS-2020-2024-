{
 "cells": [
  {
   "cell_type": "code",
   "execution_count": 1,
   "id": "739fb008",
   "metadata": {},
   "outputs": [
    {
     "name": "stderr",
     "output_type": "stream",
     "text": [
      "C:\\Users\\arbaa\\anaconda3\\lib\\site-packages\\scipy\\__init__.py:146: UserWarning: A NumPy version >=1.16.5 and <1.23.0 is required for this version of SciPy (detected version 1.26.3\n",
      "  warnings.warn(f\"A NumPy version >={np_minversion} and <{np_maxversion}\"\n"
     ]
    }
   ],
   "source": [
    "import pandas as pd\n",
    "import numpy as np\n",
    "import matplotlib.pyplot as plt\n",
    "import seaborn as sns\n",
    "import warnings\n",
    "warnings.filterwarnings(\"ignore\")"
   ]
  },
  {
   "cell_type": "markdown",
   "id": "6719d023",
   "metadata": {},
   "source": [
    "# About Dataset"
   ]
  },
  {
   "cell_type": "markdown",
   "id": "f94b5033",
   "metadata": {},
   "source": [
    "The dataset that I have picked provides insights into the salaries of employees with various designations and employment attributes from year 2020 to year 2024. It includes information such as salary, job title, experience level, employment type, employee residence, remote work ratio, company location and company size."
   ]
  },
  {
   "cell_type": "markdown",
   "id": "28d52ea8",
   "metadata": {},
   "source": [
    "# Metadata:"
   ]
  },
  {
   "cell_type": "raw",
   "id": "3845b49b",
   "metadata": {},
   "source": [
    "work_year : the year in which the data was collected\n",
    "experience_level : experience level of the employee as SE(Senior Engineer), MI (Mid-level Engineer), EN(Entry level engineer), EX(Executive)\n",
    "employment_type : type of employment , as FT(Full time), Part-time(PT), Contract(CT) and Freelance(FL)\n",
    "job_title: the title or role of the employee within the company\n",
    "salary : the salary in local currency\n",
    "salary_in_usd : salary converted to US dollars for standardizing the dataset\n",
    "employee_residence : the country of residence of each employee\n",
    "remote_ratio : the ratio indicating the extent of remote work allowed in the position\n",
    "company_location : location of the company where employee is working\n",
    "company_size : the size of the company, often categorized by number of employees (S-Small, M-Medium, L-Large)"
   ]
  },
  {
   "cell_type": "code",
   "execution_count": 2,
   "id": "de65b186",
   "metadata": {},
   "outputs": [],
   "source": [
    "df=pd.read_csv(\"salaries.csv\")"
   ]
  },
  {
   "cell_type": "markdown",
   "id": "fb6338cf",
   "metadata": {},
   "source": [
    "# DATA EXPLORATION AND CLEANING"
   ]
  },
  {
   "cell_type": "code",
   "execution_count": 3,
   "id": "8f389aac",
   "metadata": {},
   "outputs": [
    {
     "data": {
      "text/html": [
       "<div>\n",
       "<style scoped>\n",
       "    .dataframe tbody tr th:only-of-type {\n",
       "        vertical-align: middle;\n",
       "    }\n",
       "\n",
       "    .dataframe tbody tr th {\n",
       "        vertical-align: top;\n",
       "    }\n",
       "\n",
       "    .dataframe thead th {\n",
       "        text-align: right;\n",
       "    }\n",
       "</style>\n",
       "<table border=\"1\" class=\"dataframe\">\n",
       "  <thead>\n",
       "    <tr style=\"text-align: right;\">\n",
       "      <th></th>\n",
       "      <th>work_year</th>\n",
       "      <th>experience_level</th>\n",
       "      <th>employment_type</th>\n",
       "      <th>job_title</th>\n",
       "      <th>salary</th>\n",
       "      <th>salary_currency</th>\n",
       "      <th>salary_in_usd</th>\n",
       "      <th>employee_residence</th>\n",
       "      <th>remote_ratio</th>\n",
       "      <th>company_location</th>\n",
       "      <th>company_size</th>\n",
       "    </tr>\n",
       "  </thead>\n",
       "  <tbody>\n",
       "    <tr>\n",
       "      <th>0</th>\n",
       "      <td>2024</td>\n",
       "      <td>SE</td>\n",
       "      <td>FT</td>\n",
       "      <td>AI Engineer</td>\n",
       "      <td>202730</td>\n",
       "      <td>USD</td>\n",
       "      <td>202730</td>\n",
       "      <td>US</td>\n",
       "      <td>0</td>\n",
       "      <td>US</td>\n",
       "      <td>M</td>\n",
       "    </tr>\n",
       "    <tr>\n",
       "      <th>1</th>\n",
       "      <td>2024</td>\n",
       "      <td>SE</td>\n",
       "      <td>FT</td>\n",
       "      <td>AI Engineer</td>\n",
       "      <td>92118</td>\n",
       "      <td>USD</td>\n",
       "      <td>92118</td>\n",
       "      <td>US</td>\n",
       "      <td>0</td>\n",
       "      <td>US</td>\n",
       "      <td>M</td>\n",
       "    </tr>\n",
       "    <tr>\n",
       "      <th>2</th>\n",
       "      <td>2024</td>\n",
       "      <td>SE</td>\n",
       "      <td>FT</td>\n",
       "      <td>Data Engineer</td>\n",
       "      <td>130500</td>\n",
       "      <td>USD</td>\n",
       "      <td>130500</td>\n",
       "      <td>US</td>\n",
       "      <td>0</td>\n",
       "      <td>US</td>\n",
       "      <td>M</td>\n",
       "    </tr>\n",
       "    <tr>\n",
       "      <th>3</th>\n",
       "      <td>2024</td>\n",
       "      <td>SE</td>\n",
       "      <td>FT</td>\n",
       "      <td>Data Engineer</td>\n",
       "      <td>96000</td>\n",
       "      <td>USD</td>\n",
       "      <td>96000</td>\n",
       "      <td>US</td>\n",
       "      <td>0</td>\n",
       "      <td>US</td>\n",
       "      <td>M</td>\n",
       "    </tr>\n",
       "    <tr>\n",
       "      <th>4</th>\n",
       "      <td>2024</td>\n",
       "      <td>SE</td>\n",
       "      <td>FT</td>\n",
       "      <td>Machine Learning Engineer</td>\n",
       "      <td>190000</td>\n",
       "      <td>USD</td>\n",
       "      <td>190000</td>\n",
       "      <td>US</td>\n",
       "      <td>0</td>\n",
       "      <td>US</td>\n",
       "      <td>M</td>\n",
       "    </tr>\n",
       "  </tbody>\n",
       "</table>\n",
       "</div>"
      ],
      "text/plain": [
       "   work_year experience_level employment_type                  job_title  \\\n",
       "0       2024               SE              FT                AI Engineer   \n",
       "1       2024               SE              FT                AI Engineer   \n",
       "2       2024               SE              FT              Data Engineer   \n",
       "3       2024               SE              FT              Data Engineer   \n",
       "4       2024               SE              FT  Machine Learning Engineer   \n",
       "\n",
       "   salary salary_currency  salary_in_usd employee_residence  remote_ratio  \\\n",
       "0  202730             USD         202730                 US             0   \n",
       "1   92118             USD          92118                 US             0   \n",
       "2  130500             USD         130500                 US             0   \n",
       "3   96000             USD          96000                 US             0   \n",
       "4  190000             USD         190000                 US             0   \n",
       "\n",
       "  company_location company_size  \n",
       "0               US            M  \n",
       "1               US            M  \n",
       "2               US            M  \n",
       "3               US            M  \n",
       "4               US            M  "
      ]
     },
     "execution_count": 3,
     "metadata": {},
     "output_type": "execute_result"
    }
   ],
   "source": [
    "df.head(5)"
   ]
  },
  {
   "cell_type": "code",
   "execution_count": 4,
   "id": "e5920f95",
   "metadata": {},
   "outputs": [
    {
     "data": {
      "text/html": [
       "<div>\n",
       "<style scoped>\n",
       "    .dataframe tbody tr th:only-of-type {\n",
       "        vertical-align: middle;\n",
       "    }\n",
       "\n",
       "    .dataframe tbody tr th {\n",
       "        vertical-align: top;\n",
       "    }\n",
       "\n",
       "    .dataframe thead th {\n",
       "        text-align: right;\n",
       "    }\n",
       "</style>\n",
       "<table border=\"1\" class=\"dataframe\">\n",
       "  <thead>\n",
       "    <tr style=\"text-align: right;\">\n",
       "      <th></th>\n",
       "      <th>work_year</th>\n",
       "      <th>experience_level</th>\n",
       "      <th>employment_type</th>\n",
       "      <th>job_title</th>\n",
       "      <th>salary</th>\n",
       "      <th>salary_currency</th>\n",
       "      <th>salary_in_usd</th>\n",
       "      <th>employee_residence</th>\n",
       "      <th>remote_ratio</th>\n",
       "      <th>company_location</th>\n",
       "      <th>company_size</th>\n",
       "    </tr>\n",
       "  </thead>\n",
       "  <tbody>\n",
       "    <tr>\n",
       "      <th>count</th>\n",
       "      <td>16534.000000</td>\n",
       "      <td>16533</td>\n",
       "      <td>16531</td>\n",
       "      <td>16534</td>\n",
       "      <td>1.653400e+04</td>\n",
       "      <td>16534</td>\n",
       "      <td>16534.000000</td>\n",
       "      <td>16532</td>\n",
       "      <td>16534.000000</td>\n",
       "      <td>16533</td>\n",
       "      <td>16534</td>\n",
       "    </tr>\n",
       "    <tr>\n",
       "      <th>unique</th>\n",
       "      <td>NaN</td>\n",
       "      <td>4</td>\n",
       "      <td>4</td>\n",
       "      <td>155</td>\n",
       "      <td>NaN</td>\n",
       "      <td>23</td>\n",
       "      <td>NaN</td>\n",
       "      <td>88</td>\n",
       "      <td>NaN</td>\n",
       "      <td>77</td>\n",
       "      <td>3</td>\n",
       "    </tr>\n",
       "    <tr>\n",
       "      <th>top</th>\n",
       "      <td>NaN</td>\n",
       "      <td>SE</td>\n",
       "      <td>FT</td>\n",
       "      <td>Data Engineer</td>\n",
       "      <td>NaN</td>\n",
       "      <td>USD</td>\n",
       "      <td>NaN</td>\n",
       "      <td>US</td>\n",
       "      <td>NaN</td>\n",
       "      <td>US</td>\n",
       "      <td>M</td>\n",
       "    </tr>\n",
       "    <tr>\n",
       "      <th>freq</th>\n",
       "      <td>NaN</td>\n",
       "      <td>10669</td>\n",
       "      <td>16451</td>\n",
       "      <td>3464</td>\n",
       "      <td>NaN</td>\n",
       "      <td>15294</td>\n",
       "      <td>NaN</td>\n",
       "      <td>14466</td>\n",
       "      <td>NaN</td>\n",
       "      <td>14517</td>\n",
       "      <td>15306</td>\n",
       "    </tr>\n",
       "    <tr>\n",
       "      <th>mean</th>\n",
       "      <td>2023.226866</td>\n",
       "      <td>NaN</td>\n",
       "      <td>NaN</td>\n",
       "      <td>NaN</td>\n",
       "      <td>1.637270e+05</td>\n",
       "      <td>NaN</td>\n",
       "      <td>149686.777973</td>\n",
       "      <td>NaN</td>\n",
       "      <td>32.003750</td>\n",
       "      <td>NaN</td>\n",
       "      <td>NaN</td>\n",
       "    </tr>\n",
       "    <tr>\n",
       "      <th>std</th>\n",
       "      <td>0.713558</td>\n",
       "      <td>NaN</td>\n",
       "      <td>NaN</td>\n",
       "      <td>NaN</td>\n",
       "      <td>3.402057e+05</td>\n",
       "      <td>NaN</td>\n",
       "      <td>68505.293156</td>\n",
       "      <td>NaN</td>\n",
       "      <td>46.245158</td>\n",
       "      <td>NaN</td>\n",
       "      <td>NaN</td>\n",
       "    </tr>\n",
       "    <tr>\n",
       "      <th>min</th>\n",
       "      <td>2020.000000</td>\n",
       "      <td>NaN</td>\n",
       "      <td>NaN</td>\n",
       "      <td>NaN</td>\n",
       "      <td>1.400000e+04</td>\n",
       "      <td>NaN</td>\n",
       "      <td>15000.000000</td>\n",
       "      <td>NaN</td>\n",
       "      <td>0.000000</td>\n",
       "      <td>NaN</td>\n",
       "      <td>NaN</td>\n",
       "    </tr>\n",
       "    <tr>\n",
       "      <th>25%</th>\n",
       "      <td>2023.000000</td>\n",
       "      <td>NaN</td>\n",
       "      <td>NaN</td>\n",
       "      <td>NaN</td>\n",
       "      <td>1.017630e+05</td>\n",
       "      <td>NaN</td>\n",
       "      <td>101125.000000</td>\n",
       "      <td>NaN</td>\n",
       "      <td>0.000000</td>\n",
       "      <td>NaN</td>\n",
       "      <td>NaN</td>\n",
       "    </tr>\n",
       "    <tr>\n",
       "      <th>50%</th>\n",
       "      <td>2023.000000</td>\n",
       "      <td>NaN</td>\n",
       "      <td>NaN</td>\n",
       "      <td>NaN</td>\n",
       "      <td>1.422000e+05</td>\n",
       "      <td>NaN</td>\n",
       "      <td>141300.000000</td>\n",
       "      <td>NaN</td>\n",
       "      <td>0.000000</td>\n",
       "      <td>NaN</td>\n",
       "      <td>NaN</td>\n",
       "    </tr>\n",
       "    <tr>\n",
       "      <th>75%</th>\n",
       "      <td>2024.000000</td>\n",
       "      <td>NaN</td>\n",
       "      <td>NaN</td>\n",
       "      <td>NaN</td>\n",
       "      <td>1.872000e+05</td>\n",
       "      <td>NaN</td>\n",
       "      <td>185900.000000</td>\n",
       "      <td>NaN</td>\n",
       "      <td>100.000000</td>\n",
       "      <td>NaN</td>\n",
       "      <td>NaN</td>\n",
       "    </tr>\n",
       "    <tr>\n",
       "      <th>max</th>\n",
       "      <td>2024.000000</td>\n",
       "      <td>NaN</td>\n",
       "      <td>NaN</td>\n",
       "      <td>NaN</td>\n",
       "      <td>3.040000e+07</td>\n",
       "      <td>NaN</td>\n",
       "      <td>800000.000000</td>\n",
       "      <td>NaN</td>\n",
       "      <td>100.000000</td>\n",
       "      <td>NaN</td>\n",
       "      <td>NaN</td>\n",
       "    </tr>\n",
       "  </tbody>\n",
       "</table>\n",
       "</div>"
      ],
      "text/plain": [
       "           work_year experience_level employment_type      job_title  \\\n",
       "count   16534.000000            16533           16531          16534   \n",
       "unique           NaN                4               4            155   \n",
       "top              NaN               SE              FT  Data Engineer   \n",
       "freq             NaN            10669           16451           3464   \n",
       "mean     2023.226866              NaN             NaN            NaN   \n",
       "std         0.713558              NaN             NaN            NaN   \n",
       "min      2020.000000              NaN             NaN            NaN   \n",
       "25%      2023.000000              NaN             NaN            NaN   \n",
       "50%      2023.000000              NaN             NaN            NaN   \n",
       "75%      2024.000000              NaN             NaN            NaN   \n",
       "max      2024.000000              NaN             NaN            NaN   \n",
       "\n",
       "              salary salary_currency  salary_in_usd employee_residence  \\\n",
       "count   1.653400e+04           16534   16534.000000              16532   \n",
       "unique           NaN              23            NaN                 88   \n",
       "top              NaN             USD            NaN                 US   \n",
       "freq             NaN           15294            NaN              14466   \n",
       "mean    1.637270e+05             NaN  149686.777973                NaN   \n",
       "std     3.402057e+05             NaN   68505.293156                NaN   \n",
       "min     1.400000e+04             NaN   15000.000000                NaN   \n",
       "25%     1.017630e+05             NaN  101125.000000                NaN   \n",
       "50%     1.422000e+05             NaN  141300.000000                NaN   \n",
       "75%     1.872000e+05             NaN  185900.000000                NaN   \n",
       "max     3.040000e+07             NaN  800000.000000                NaN   \n",
       "\n",
       "        remote_ratio company_location company_size  \n",
       "count   16534.000000            16533        16534  \n",
       "unique           NaN               77            3  \n",
       "top              NaN               US            M  \n",
       "freq             NaN            14517        15306  \n",
       "mean       32.003750              NaN          NaN  \n",
       "std        46.245158              NaN          NaN  \n",
       "min         0.000000              NaN          NaN  \n",
       "25%         0.000000              NaN          NaN  \n",
       "50%         0.000000              NaN          NaN  \n",
       "75%       100.000000              NaN          NaN  \n",
       "max       100.000000              NaN          NaN  "
      ]
     },
     "execution_count": 4,
     "metadata": {},
     "output_type": "execute_result"
    }
   ],
   "source": [
    "df.describe(include='all')"
   ]
  },
  {
   "cell_type": "code",
   "execution_count": 5,
   "id": "9fb6135a",
   "metadata": {},
   "outputs": [
    {
     "data": {
      "text/plain": [
       "(16534, 11)"
      ]
     },
     "execution_count": 5,
     "metadata": {},
     "output_type": "execute_result"
    }
   ],
   "source": [
    "df.shape"
   ]
  },
  {
   "cell_type": "code",
   "execution_count": 6,
   "id": "6dd95ae3",
   "metadata": {},
   "outputs": [
    {
     "name": "stdout",
     "output_type": "stream",
     "text": [
      "<class 'pandas.core.frame.DataFrame'>\n",
      "RangeIndex: 16534 entries, 0 to 16533\n",
      "Data columns (total 11 columns):\n",
      " #   Column              Non-Null Count  Dtype \n",
      "---  ------              --------------  ----- \n",
      " 0   work_year           16534 non-null  int64 \n",
      " 1   experience_level    16533 non-null  object\n",
      " 2   employment_type     16531 non-null  object\n",
      " 3   job_title           16534 non-null  object\n",
      " 4   salary              16534 non-null  int64 \n",
      " 5   salary_currency     16534 non-null  object\n",
      " 6   salary_in_usd       16534 non-null  int64 \n",
      " 7   employee_residence  16532 non-null  object\n",
      " 8   remote_ratio        16534 non-null  int64 \n",
      " 9   company_location    16533 non-null  object\n",
      " 10  company_size        16534 non-null  object\n",
      "dtypes: int64(4), object(7)\n",
      "memory usage: 1.4+ MB\n"
     ]
    }
   ],
   "source": [
    "df.info()"
   ]
  },
  {
   "cell_type": "code",
   "execution_count": 7,
   "id": "f195e658",
   "metadata": {},
   "outputs": [
    {
     "data": {
      "text/plain": [
       "work_year             0\n",
       "experience_level      1\n",
       "employment_type       3\n",
       "job_title             0\n",
       "salary                0\n",
       "salary_currency       0\n",
       "salary_in_usd         0\n",
       "employee_residence    2\n",
       "remote_ratio          0\n",
       "company_location      1\n",
       "company_size          0\n",
       "dtype: int64"
      ]
     },
     "execution_count": 7,
     "metadata": {},
     "output_type": "execute_result"
    }
   ],
   "source": [
    "df.isnull().sum()"
   ]
  },
  {
   "cell_type": "code",
   "execution_count": 8,
   "id": "e7cc58ae",
   "metadata": {},
   "outputs": [],
   "source": [
    "df=df.fillna(method='ffill')"
   ]
  },
  {
   "cell_type": "code",
   "execution_count": 9,
   "id": "004b61e1",
   "metadata": {},
   "outputs": [
    {
     "data": {
      "text/plain": [
       "work_year             0\n",
       "experience_level      0\n",
       "employment_type       0\n",
       "job_title             0\n",
       "salary                0\n",
       "salary_currency       0\n",
       "salary_in_usd         0\n",
       "employee_residence    0\n",
       "remote_ratio          0\n",
       "company_location      0\n",
       "company_size          0\n",
       "dtype: int64"
      ]
     },
     "execution_count": 9,
     "metadata": {},
     "output_type": "execute_result"
    }
   ],
   "source": [
    "df.isnull().sum()"
   ]
  },
  {
   "cell_type": "code",
   "execution_count": 10,
   "id": "543559e0",
   "metadata": {},
   "outputs": [
    {
     "data": {
      "text/plain": [
       "6421"
      ]
     },
     "execution_count": 10,
     "metadata": {},
     "output_type": "execute_result"
    }
   ],
   "source": [
    "duplicates=df[df.duplicated()]\n",
    "num_duplicates=duplicates.shape[0]\n",
    "num_duplicates"
   ]
  },
  {
   "cell_type": "code",
   "execution_count": 11,
   "id": "d3530caa",
   "metadata": {},
   "outputs": [],
   "source": [
    "df.drop_duplicates(inplace=True)"
   ]
  },
  {
   "cell_type": "code",
   "execution_count": 12,
   "id": "a0627a28",
   "metadata": {},
   "outputs": [
    {
     "data": {
      "text/plain": [
       "(10113, 11)"
      ]
     },
     "execution_count": 12,
     "metadata": {},
     "output_type": "execute_result"
    }
   ],
   "source": [
    "df.shape"
   ]
  },
  {
   "cell_type": "code",
   "execution_count": 13,
   "id": "961c653c",
   "metadata": {},
   "outputs": [
    {
     "data": {
      "text/plain": [
       "2023    4632\n",
       "2024    4074\n",
       "2022    1116\n",
       "2021     216\n",
       "2020      75\n",
       "Name: work_year, dtype: int64"
      ]
     },
     "execution_count": 13,
     "metadata": {},
     "output_type": "execute_result"
    }
   ],
   "source": [
    "year_counts=df['work_year'].value_counts()\n",
    "year_counts"
   ]
  },
  {
   "cell_type": "code",
   "execution_count": 14,
   "id": "92047bc0",
   "metadata": {},
   "outputs": [
    {
     "data": {
      "text/plain": [
       "SE    5950\n",
       "MI    2761\n",
       "EN    1011\n",
       "EX     391\n",
       "Name: experience_level, dtype: int64"
      ]
     },
     "execution_count": 14,
     "metadata": {},
     "output_type": "execute_result"
    }
   ],
   "source": [
    "workexp_counts=df['experience_level'].value_counts()\n",
    "workexp_counts"
   ]
  },
  {
   "cell_type": "markdown",
   "id": "b5577370",
   "metadata": {},
   "source": [
    "SE-Senior Engineer\n",
    "MI- Mid-Level Engineer\n",
    "EL- Entry-level Engineer\n",
    "EX: Executive"
   ]
  },
  {
   "cell_type": "code",
   "execution_count": 15,
   "id": "b900d4e5",
   "metadata": {},
   "outputs": [
    {
     "data": {
      "text/plain": [
       "FT    10033\n",
       "PT       38\n",
       "CT       28\n",
       "FL       14\n",
       "Name: employment_type, dtype: int64"
      ]
     },
     "execution_count": 15,
     "metadata": {},
     "output_type": "execute_result"
    }
   ],
   "source": [
    "worktype_counts=df['employment_type'].value_counts()\n",
    "worktype_counts"
   ]
  },
  {
   "cell_type": "markdown",
   "id": "1184cec3",
   "metadata": {},
   "source": [
    "FT- Full time\n",
    "PT- Part time\n",
    "CT- Contract\n",
    "FL- Freelance"
   ]
  },
  {
   "cell_type": "code",
   "execution_count": 16,
   "id": "b3a8a8c7",
   "metadata": {},
   "outputs": [
    {
     "data": {
      "text/plain": [
       "M    9284\n",
       "L     642\n",
       "S     187\n",
       "Name: company_size, dtype: int64"
      ]
     },
     "execution_count": 16,
     "metadata": {},
     "output_type": "execute_result"
    }
   ],
   "source": [
    "companysize_counts=df['company_size'].value_counts()\n",
    "companysize_counts"
   ]
  },
  {
   "cell_type": "code",
   "execution_count": 17,
   "id": "55f4456c",
   "metadata": {},
   "outputs": [
    {
     "data": {
      "text/plain": [
       "Data Engineer                    1842\n",
       "Data Scientist                   1835\n",
       "Data Analyst                     1384\n",
       "Machine Learning Engineer         945\n",
       "Analytics Engineer                354\n",
       "                                 ... \n",
       "Quantitative Research Analyst       1\n",
       "AWS Data Architect                  1\n",
       "Analytics Engineering Manager       1\n",
       "Marketing Data Scientist            1\n",
       "Applied Research Scientist          1\n",
       "Name: job_title, Length: 155, dtype: int64"
      ]
     },
     "execution_count": 17,
     "metadata": {},
     "output_type": "execute_result"
    }
   ],
   "source": [
    "jobtitle_counts=df['job_title'].value_counts()\n",
    "jobtitle_counts"
   ]
  },
  {
   "cell_type": "code",
   "execution_count": 18,
   "id": "1fdd73ff",
   "metadata": {},
   "outputs": [],
   "source": [
    "#noticed there is also Machine Learning Engineer in the list along with ML engineer which is the same. \n",
    "#Hence I am replacing 'Machine Learning Engineer' with 'ML Engineer' for consistency\n",
    "\n",
    "df['job_title']= df['job_title'].replace({'Machine Learning Engineer': 'ML Engineer'})"
   ]
  },
  {
   "cell_type": "code",
   "execution_count": 19,
   "id": "7effd8e8",
   "metadata": {},
   "outputs": [
    {
     "data": {
      "text/plain": [
       "0      6394\n",
       "100    3472\n",
       "50      247\n",
       "Name: remote_ratio, dtype: int64"
      ]
     },
     "execution_count": 19,
     "metadata": {},
     "output_type": "execute_result"
    }
   ],
   "source": [
    "remote_counts=df['remote_ratio'].value_counts()\n",
    "remote_counts"
   ]
  },
  {
   "cell_type": "markdown",
   "id": "5ce465f4",
   "metadata": {},
   "source": [
    "0-office\n",
    "50-hybrid\n",
    "100-remote"
   ]
  },
  {
   "cell_type": "code",
   "execution_count": 20,
   "id": "d04dec03",
   "metadata": {},
   "outputs": [],
   "source": [
    "#standardizing the values of remote ratio to office (0), hybrid(50) and remote(100)\n",
    "df['remote_ratio']=df['remote_ratio'].replace({0:'office', 50:'hybrid', 100:'remote'})"
   ]
  },
  {
   "cell_type": "code",
   "execution_count": 21,
   "id": "c48cd01a",
   "metadata": {},
   "outputs": [
    {
     "data": {
      "text/plain": [
       "office    6394\n",
       "remote    3472\n",
       "hybrid     247\n",
       "Name: remote_ratio, dtype: int64"
      ]
     },
     "execution_count": 21,
     "metadata": {},
     "output_type": "execute_result"
    }
   ],
   "source": [
    "df['remote_ratio'].value_counts()"
   ]
  },
  {
   "cell_type": "code",
   "execution_count": 22,
   "id": "5ea7b953",
   "metadata": {},
   "outputs": [
    {
     "data": {
      "text/plain": [
       "US    8378\n",
       "GB     541\n",
       "CA     404\n",
       "DE     104\n",
       "ES      74\n",
       "      ... \n",
       "AM       1\n",
       "QA       1\n",
       "AD       1\n",
       "EC       1\n",
       "MD       1\n",
       "Name: company_location, Length: 77, dtype: int64"
      ]
     },
     "execution_count": 22,
     "metadata": {},
     "output_type": "execute_result"
    }
   ],
   "source": [
    "companies_location=df['company_location'].value_counts()\n",
    "companies_location"
   ]
  },
  {
   "cell_type": "code",
   "execution_count": 23,
   "id": "0be78e20",
   "metadata": {},
   "outputs": [
    {
     "data": {
      "text/plain": [
       "US    8327\n",
       "GB     533\n",
       "CA     402\n",
       "DE      97\n",
       "IN      78\n",
       "      ... \n",
       "UG       1\n",
       "MU       1\n",
       "QA       1\n",
       "PE       1\n",
       "LU       1\n",
       "Name: employee_residence, Length: 88, dtype: int64"
      ]
     },
     "execution_count": 23,
     "metadata": {},
     "output_type": "execute_result"
    }
   ],
   "source": [
    "employees_countries=df['employee_residence'].value_counts()\n",
    "employees_countries"
   ]
  },
  {
   "cell_type": "markdown",
   "id": "97617124",
   "metadata": {},
   "source": [
    "# DATA VISUALIZATION"
   ]
  },
  {
   "cell_type": "markdown",
   "id": "c251f015",
   "metadata": {},
   "source": [
    "# 1) Average salary of all employees for each experience level\n"
   ]
  },
  {
   "cell_type": "code",
   "execution_count": 24,
   "id": "422f7d60",
   "metadata": {},
   "outputs": [
    {
     "data": {
      "text/html": [
       "<div>\n",
       "<style scoped>\n",
       "    .dataframe tbody tr th:only-of-type {\n",
       "        vertical-align: middle;\n",
       "    }\n",
       "\n",
       "    .dataframe tbody tr th {\n",
       "        vertical-align: top;\n",
       "    }\n",
       "\n",
       "    .dataframe thead th {\n",
       "        text-align: right;\n",
       "    }\n",
       "</style>\n",
       "<table border=\"1\" class=\"dataframe\">\n",
       "  <thead>\n",
       "    <tr style=\"text-align: right;\">\n",
       "      <th></th>\n",
       "      <th>experience_level</th>\n",
       "      <th>salary_in_usd</th>\n",
       "    </tr>\n",
       "  </thead>\n",
       "  <tbody>\n",
       "    <tr>\n",
       "      <th>0</th>\n",
       "      <td>EX</td>\n",
       "      <td>195218.519182</td>\n",
       "    </tr>\n",
       "    <tr>\n",
       "      <th>1</th>\n",
       "      <td>SE</td>\n",
       "      <td>163331.434958</td>\n",
       "    </tr>\n",
       "    <tr>\n",
       "      <th>2</th>\n",
       "      <td>MI</td>\n",
       "      <td>124116.557407</td>\n",
       "    </tr>\n",
       "    <tr>\n",
       "      <th>3</th>\n",
       "      <td>EN</td>\n",
       "      <td>91351.461919</td>\n",
       "    </tr>\n",
       "  </tbody>\n",
       "</table>\n",
       "</div>"
      ],
      "text/plain": [
       "  experience_level  salary_in_usd\n",
       "0               EX  195218.519182\n",
       "1               SE  163331.434958\n",
       "2               MI  124116.557407\n",
       "3               EN   91351.461919"
      ]
     },
     "execution_count": 24,
     "metadata": {},
     "output_type": "execute_result"
    }
   ],
   "source": [
    "df_average_salary=df.groupby('experience_level')['salary_in_usd'].mean().sort_values(ascending=False).reset_index()\n",
    "df_average_salary"
   ]
  },
  {
   "cell_type": "code",
   "execution_count": 25,
   "id": "37e990ff",
   "metadata": {},
   "outputs": [
    {
     "data": {
      "image/png": "[encoded data removed]",
      "text/plain": [
       "<Figure size 864x432 with 1 Axes>"
      ]
     },
     "metadata": {
      "needs_background": "light"
     },
     "output_type": "display_data"
    }
   ],
   "source": [
    "plt.figure(figsize=(12,6))\n",
    "ax= sns.barplot(data=df_average_salary, x='experience_level',y='salary_in_usd')\n",
    "plt.xlabel('Experience Level', fontsize=12)\n",
    "plt.ylabel('Average Salary in USD', fontsize=12)\n",
    "plt.title('Average salary against Each experience level', fontsize=14)\n",
    "\n",
    "# to present labels on each bar in the graph.\n",
    "for container in ax.containers:\n",
    "    ax.bar_label(container, fmt='%.2f', label_type='edge', fontsize=10)\n",
    "\n",
    "plt.show()"
   ]
  },
  {
   "cell_type": "markdown",
   "id": "72a8dff8",
   "metadata": {},
   "source": [
    "We can observe average salary of EX (executive) level is the highest (195K USD approx) when compared to other experience levels category with Entry level being the lowest (91.3K USD)"
   ]
  },
  {
   "cell_type": "markdown",
   "id": "5b4400da",
   "metadata": {},
   "source": [
    "# 2) How has the average salary changed over the years in USD?"
   ]
  },
  {
   "cell_type": "code",
   "execution_count": 26,
   "id": "fd89e253",
   "metadata": {},
   "outputs": [
    {
     "data": {
      "text/plain": [
       "<function matplotlib.pyplot.show(close=None, block=None)>"
      ]
     },
     "execution_count": 26,
     "metadata": {},
     "output_type": "execute_result"
    },
    {
     "data": {
      "image/png": "[encoded data removed]",
      "text/plain": [
       "<Figure size 576x432 with 1 Axes>"
      ]
     },
     "metadata": {
      "needs_background": "light"
     },
     "output_type": "display_data"
    }
   ],
   "source": [
    "# drawing a Histogram showing the volume distribution of the salary\n",
    "plt.figure(figsize=(8,6))\n",
    "sns.histplot(data=df,x='salary_in_usd', kde=True)\n",
    "plt.title('Distribution of Salaries')\n",
    "plt.xlabel('salary in USD')\n",
    "plt.ylabel('count')\n",
    "plt.tight_layout()\n",
    "plt.show"
   ]
  },
  {
   "cell_type": "code",
   "execution_count": 27,
   "id": "14da5d4e",
   "metadata": {},
   "outputs": [
    {
     "data": {
      "text/plain": [
       "<function matplotlib.pyplot.show(close=None, block=None)>"
      ]
     },
     "execution_count": 27,
     "metadata": {},
     "output_type": "execute_result"
    },
    {
     "data": {
      "image/png": "[encoded data removed]",
      "text/plain": [
       "<Figure size 576x432 with 1 Axes>"
      ]
     },
     "metadata": {
      "needs_background": "light"
     },
     "output_type": "display_data"
    }
   ],
   "source": [
    "years_unique=sorted(df['work_year'].unique())\n",
    "\n",
    "#using estimator ='mean' to calculate the avg of salary_in_usd column\n",
    "plt.figure(figsize=(8,6))\n",
    "sns.lineplot(data=df, x='work_year', y='salary_in_usd', estimator='mean', marker='o', ci=None, markers=True)\n",
    "plt.title('Average Salary across given years')\n",
    "plt.xlabel('Year')\n",
    "plt.ylabel('Average Salary in USD')\n",
    "plt.xticks(years_unique)\n",
    "plt.tight_layout()\n",
    "plt.grid(True)\n",
    "plt.show"
   ]
  },
  {
   "cell_type": "markdown",
   "id": "ca9c81fe",
   "metadata": {},
   "source": [
    "We can observe there was substancial increase in the average salary overall in terms of all job designations from 2021 to 2023 by 50% and has slightly decreased in 2024."
   ]
  },
  {
   "cell_type": "markdown",
   "id": "16df37ed",
   "metadata": {},
   "source": [
    "# 3) How is the average salary varying in terms of employment type? which job title is earning the most?"
   ]
  },
  {
   "cell_type": "code",
   "execution_count": 28,
   "id": "2756b187",
   "metadata": {},
   "outputs": [
    {
     "data": {
      "text/html": [
       "<div>\n",
       "<style scoped>\n",
       "    .dataframe tbody tr th:only-of-type {\n",
       "        vertical-align: middle;\n",
       "    }\n",
       "\n",
       "    .dataframe tbody tr th {\n",
       "        vertical-align: top;\n",
       "    }\n",
       "\n",
       "    .dataframe thead th {\n",
       "        text-align: right;\n",
       "    }\n",
       "</style>\n",
       "<table border=\"1\" class=\"dataframe\">\n",
       "  <thead>\n",
       "    <tr style=\"text-align: right;\">\n",
       "      <th></th>\n",
       "      <th>employment_type</th>\n",
       "      <th>salary_in_usd</th>\n",
       "    </tr>\n",
       "  </thead>\n",
       "  <tbody>\n",
       "    <tr>\n",
       "      <th>0</th>\n",
       "      <td>FT</td>\n",
       "      <td>147131.548789</td>\n",
       "    </tr>\n",
       "    <tr>\n",
       "      <th>1</th>\n",
       "      <td>CT</td>\n",
       "      <td>112578.392857</td>\n",
       "    </tr>\n",
       "    <tr>\n",
       "      <th>2</th>\n",
       "      <td>PT</td>\n",
       "      <td>83750.157895</td>\n",
       "    </tr>\n",
       "    <tr>\n",
       "      <th>3</th>\n",
       "      <td>FL</td>\n",
       "      <td>49220.857143</td>\n",
       "    </tr>\n",
       "  </tbody>\n",
       "</table>\n",
       "</div>"
      ],
      "text/plain": [
       "  employment_type  salary_in_usd\n",
       "0              FT  147131.548789\n",
       "1              CT  112578.392857\n",
       "2              PT   83750.157895\n",
       "3              FL   49220.857143"
      ]
     },
     "execution_count": 28,
     "metadata": {},
     "output_type": "execute_result"
    }
   ],
   "source": [
    "df_grouped=df.groupby('employment_type')['salary_in_usd'].mean().sort_values(ascending=False).reset_index()\n",
    "df_grouped"
   ]
  },
  {
   "cell_type": "code",
   "execution_count": 29,
   "id": "d0e9ab83",
   "metadata": {},
   "outputs": [
    {
     "data": {
      "image/png": "[encoded data removed]",
      "text/plain": [
       "<Figure size 864x432 with 1 Axes>"
      ]
     },
     "metadata": {
      "needs_background": "light"
     },
     "output_type": "display_data"
    }
   ],
   "source": [
    "plt.figure(figsize=(12,6))\n",
    "graph=plt.bar(df_grouped['employment_type'], df_grouped['salary_in_usd'], color='skyblue')\n",
    "plt.xlabel('Employment_type', fontsize=12)\n",
    "plt.ylabel('Average Salary in USD', fontsize=12)\n",
    "plt.title('Average Salary per each employment type', fontsize=14)\n",
    "plt.tight_layout()\n",
    "\n",
    "for bar in graph:\n",
    "    height=bar.get_height()\n",
    "    plt.text(bar.get_x() + bar.get_width()/2.0, height, f'{height:.2f}',ha='center', va='bottom', fontsize=10)\n",
    "\n",
    "plt.tight_layout()    \n",
    "plt.show()"
   ]
  },
  {
   "cell_type": "markdown",
   "id": "82c0ad80",
   "metadata": {},
   "source": [
    "We can clearly conclude that employees working full time are earning the highest salary (around 147K USD) while people who are freelancing are earning the least (49.2K USD)"
   ]
  },
  {
   "cell_type": "markdown",
   "id": "841c55be",
   "metadata": {},
   "source": [
    "# 4) How is the average salary related to the size of the company? Which ones have the higher average salary"
   ]
  },
  {
   "cell_type": "code",
   "execution_count": 30,
   "id": "b6ce34c8",
   "metadata": {},
   "outputs": [
    {
     "data": {
      "image/png": "[encoded data removed]",
      "text/plain": [
       "<Figure size 864x432 with 1 Axes>"
      ]
     },
     "metadata": {
      "needs_background": "light"
     },
     "output_type": "display_data"
    }
   ],
   "source": [
    "#salary depending on company size\n",
    "\n",
    "plt.figure(figsize=(12,6))\n",
    "sns.boxplot(data=df, x='company_size', y='salary_in_usd')\n",
    "plt.xlabel('company size', fontsize=12)\n",
    "plt.ylabel('Average Salary in USD', fontsize=12)\n",
    "plt.title('Salary distribution verses company size', fontsize=14)\n",
    "plt.tight_layout()\n",
    "plt.show()"
   ]
  },
  {
   "cell_type": "markdown",
   "id": "35ba4094",
   "metadata": {},
   "source": [
    "We can see that Medium size companies have the avg salary range from 100K to 200K USD(approx) which is higher that the avg salaries offered by Larger size companies. (might be because there are fewer L size companies). Smaller size(S) companies have the least ranging avg salary."
   ]
  },
  {
   "cell_type": "code",
   "execution_count": 31,
   "id": "fd25ad92",
   "metadata": {},
   "outputs": [
    {
     "data": {
      "text/plain": [
       "<function matplotlib.pyplot.show(close=None, block=None)>"
      ]
     },
     "execution_count": 31,
     "metadata": {},
     "output_type": "execute_result"
    },
    {
     "data": {
      "image/png": "[encoded data removed]",
      "text/plain": [
       "<Figure size 576x432 with 1 Axes>"
      ]
     },
     "metadata": {
      "needs_background": "light"
     },
     "output_type": "display_data"
    }
   ],
   "source": [
    "#building to the Question 1 - includiing 'remote ratio' column to drill more into the graph.\n",
    "years_unique=sorted(df['work_year'].unique())\n",
    "\n",
    "plt.figure(figsize=(8,6))\n",
    "sns.lineplot(data=df, x='work_year', y='salary_in_usd', hue='remote_ratio',estimator='mean', marker='o', ci=None, markers=True)\n",
    "plt.title('Effect of remote working on the average salary across given years')\n",
    "plt.xlabel('Year')\n",
    "plt.ylabel('Average Salary in USD')\n",
    "plt.xticks(years_unique)\n",
    "plt.legend(title='Remote ratio')\n",
    "plt.tight_layout()\n",
    "plt.grid(True)\n",
    "plt.show"
   ]
  },
  {
   "cell_type": "markdown",
   "id": "bb467e9d",
   "metadata": {},
   "source": [
    "# 5) What are the top 10 most prevalent or most frequent job titles among all employees in terms of percentages? "
   ]
  },
  {
   "cell_type": "code",
   "execution_count": 32,
   "id": "7fb7e172",
   "metadata": {},
   "outputs": [
    {
     "data": {
      "text/plain": [
       "Data Engineer                    1842\n",
       "Data Scientist                   1835\n",
       "Data Analyst                     1384\n",
       "ML Engineer                      1117\n",
       "Analytics Engineer                354\n",
       "                                 ... \n",
       "Quantitative Research Analyst       1\n",
       "AWS Data Architect                  1\n",
       "Analytics Engineering Manager       1\n",
       "Marketing Data Scientist            1\n",
       "Data Analytics Associate            1\n",
       "Name: job_title, Length: 154, dtype: int64"
      ]
     },
     "execution_count": 32,
     "metadata": {},
     "output_type": "execute_result"
    }
   ],
   "source": [
    "df_job_title_counts=df['job_title'].value_counts()\n",
    "df_job_title_counts"
   ]
  },
  {
   "cell_type": "code",
   "execution_count": 33,
   "id": "e81c94f2",
   "metadata": {},
   "outputs": [
    {
     "data": {
      "text/plain": [
       "10113"
      ]
     },
     "execution_count": 33,
     "metadata": {},
     "output_type": "execute_result"
    }
   ],
   "source": [
    "total_job_titles=len(df)\n",
    "total_job_titles"
   ]
  },
  {
   "cell_type": "code",
   "execution_count": 34,
   "id": "6fe79a7b",
   "metadata": {},
   "outputs": [
    {
     "data": {
      "text/plain": [
       "Data Engineer                    18.214180\n",
       "Data Scientist                   18.144962\n",
       "Data Analyst                     13.685355\n",
       "ML Engineer                      11.045189\n",
       "Analytics Engineer                3.500445\n",
       "                                   ...    \n",
       "Quantitative Research Analyst     0.009888\n",
       "AWS Data Architect                0.009888\n",
       "Analytics Engineering Manager     0.009888\n",
       "Marketing Data Scientist          0.009888\n",
       "Data Analytics Associate          0.009888\n",
       "Name: job_title, Length: 154, dtype: float64"
      ]
     },
     "execution_count": 34,
     "metadata": {},
     "output_type": "execute_result"
    }
   ],
   "source": [
    "job_title_percentages=(df_job_title_counts/total_job_titles)*100\n",
    "job_title_percentages"
   ]
  },
  {
   "cell_type": "code",
   "execution_count": 35,
   "id": "e5ded054",
   "metadata": {},
   "outputs": [
    {
     "data": {
      "text/plain": [
       "Data Engineer                    18.214180\n",
       "Data Scientist                   18.144962\n",
       "Data Analyst                     13.685355\n",
       "ML Engineer                      11.045189\n",
       "Analytics Engineer                3.500445\n",
       "Research Scientist                3.164244\n",
       "Data Architect                    2.798378\n",
       "Research Engineer                 2.155641\n",
       "Data Science                      2.036982\n",
       "Business Intelligence Analyst     1.700781\n",
       "Name: job_title, dtype: float64"
      ]
     },
     "execution_count": 35,
     "metadata": {},
     "output_type": "execute_result"
    }
   ],
   "source": [
    "top_10_job_titles=job_title_percentages.nlargest(10)\n",
    "top_10_job_titles"
   ]
  },
  {
   "cell_type": "code",
   "execution_count": 36,
   "id": "8dfafb2a",
   "metadata": {},
   "outputs": [
    {
     "data": {
      "image/png": "[encoded data removed]",
      "text/plain": [
       "<Figure size 1152x432 with 1 Axes>"
      ]
     },
     "metadata": {
      "needs_background": "light"
     },
     "output_type": "display_data"
    }
   ],
   "source": [
    "plt.figure(figsize=(16,6))\n",
    "sns.barplot(x=top_10_job_titles.index, y=top_10_job_titles.values, palette='Blues_d')\n",
    "plt.xlabel('Job title', fontsize=12)\n",
    "plt.ylabel('Percentage', fontsize=12)\n",
    "plt.title('Top 10 prevalent job titles among employees', fontsize=14)\n",
    "plt.tight_layout()\n",
    "plt.show()"
   ]
  },
  {
   "cell_type": "markdown",
   "id": "ec0cbb8b",
   "metadata": {},
   "source": [
    "We can notice that Data Engineer and Data Scientist are the most frequent job titles among all the employees with almost 18% respectively. Data Analyst being the next with 14% and ML Engineer with almost 10%."
   ]
  },
  {
   "cell_type": "markdown",
   "id": "c5417edc",
   "metadata": {},
   "source": [
    "# 6) How has the remote working progressed over the years 2020 to 2024? Depict that considering all of the employees"
   ]
  },
  {
   "cell_type": "code",
   "execution_count": 37,
   "id": "a8e1ba79",
   "metadata": {},
   "outputs": [
    {
     "data": {
      "text/html": [
       "<div>\n",
       "<style scoped>\n",
       "    .dataframe tbody tr th:only-of-type {\n",
       "        vertical-align: middle;\n",
       "    }\n",
       "\n",
       "    .dataframe tbody tr th {\n",
       "        vertical-align: top;\n",
       "    }\n",
       "\n",
       "    .dataframe thead th {\n",
       "        text-align: right;\n",
       "    }\n",
       "</style>\n",
       "<table border=\"1\" class=\"dataframe\">\n",
       "  <thead>\n",
       "    <tr style=\"text-align: right;\">\n",
       "      <th>remote_ratio</th>\n",
       "      <th>hybrid</th>\n",
       "      <th>office</th>\n",
       "      <th>remote</th>\n",
       "    </tr>\n",
       "    <tr>\n",
       "      <th>work_year</th>\n",
       "      <th></th>\n",
       "      <th></th>\n",
       "      <th></th>\n",
       "    </tr>\n",
       "  </thead>\n",
       "  <tbody>\n",
       "    <tr>\n",
       "      <th>2020</th>\n",
       "      <td>21</td>\n",
       "      <td>18</td>\n",
       "      <td>36</td>\n",
       "    </tr>\n",
       "    <tr>\n",
       "      <th>2021</th>\n",
       "      <td>72</td>\n",
       "      <td>29</td>\n",
       "      <td>115</td>\n",
       "    </tr>\n",
       "    <tr>\n",
       "      <th>2022</th>\n",
       "      <td>60</td>\n",
       "      <td>435</td>\n",
       "      <td>621</td>\n",
       "    </tr>\n",
       "    <tr>\n",
       "      <th>2023</th>\n",
       "      <td>72</td>\n",
       "      <td>2901</td>\n",
       "      <td>1659</td>\n",
       "    </tr>\n",
       "    <tr>\n",
       "      <th>2024</th>\n",
       "      <td>22</td>\n",
       "      <td>3011</td>\n",
       "      <td>1041</td>\n",
       "    </tr>\n",
       "  </tbody>\n",
       "</table>\n",
       "</div>"
      ],
      "text/plain": [
       "remote_ratio  hybrid  office  remote\n",
       "work_year                           \n",
       "2020              21      18      36\n",
       "2021              72      29     115\n",
       "2022              60     435     621\n",
       "2023              72    2901    1659\n",
       "2024              22    3011    1041"
      ]
     },
     "execution_count": 37,
     "metadata": {},
     "output_type": "execute_result"
    }
   ],
   "source": [
    "remote_ratio_by_year=df.groupby(['work_year', 'remote_ratio']).size().unstack(fill_value=0)\n",
    "remote_ratio_percentage=remote_ratio_by_year.apply(lambda x:x /x.sum()*100, axis=1)\n",
    "remote_ratio_by_year"
   ]
  },
  {
   "cell_type": "code",
   "execution_count": 38,
   "id": "5c465922",
   "metadata": {},
   "outputs": [
    {
     "data": {
      "text/plain": [
       "<Figure size 1008x576 with 0 Axes>"
      ]
     },
     "metadata": {},
     "output_type": "display_data"
    },
    {
     "data": {
      "image/png": "[encoded data removed]",
      "text/plain": [
       "<Figure size 432x288 with 1 Axes>"
      ]
     },
     "metadata": {
      "needs_background": "light"
     },
     "output_type": "display_data"
    }
   ],
   "source": [
    "plt.figure(figsize=(14,8))\n",
    "ax=remote_ratio_percentage.plot(kind='bar', stacked=True)\n",
    "\n",
    "plt.title('Distribution of Remote Work Ratios over continuous years', fontsize=16)\n",
    "plt.xlabel('Work year', fontsize=12)\n",
    "plt.ylabel('Percentage of Employees', fontsize=12)\n",
    "plt.legend(title='Remote Ratio', bbox_to_anchor=(1.05,1), loc='upper left')\n",
    "\n",
    "for label in ax.containers:\n",
    "    ax.bar_label(label, fmt='%.1f%%' , label_type='center')\n",
    "\n",
    "plt.tight_layout()\n",
    "plt.show()"
   ]
  },
  {
   "cell_type": "markdown",
   "id": "cb01d258",
   "metadata": {},
   "source": [
    "We can notice that remote working is decreased from 2020 to 2024 and more employees have started working at the office with 74% of them working in office in the year 2024"
   ]
  },
  {
   "cell_type": "markdown",
   "id": "fe64b224",
   "metadata": {},
   "source": [
    "# 7) How is the average salary varying across the top 10 employee residences based on the employee count?"
   ]
  },
  {
   "cell_type": "code",
   "execution_count": 39,
   "id": "3c46f8af",
   "metadata": {},
   "outputs": [
    {
     "data": {
      "text/plain": [
       "US    8327\n",
       "GB     533\n",
       "CA     402\n",
       "DE      97\n",
       "IN      78\n",
       "ES      78\n",
       "FR      68\n",
       "AU      50\n",
       "NL      32\n",
       "PT      30\n",
       "Name: employee_residence, dtype: int64"
      ]
     },
     "execution_count": 39,
     "metadata": {},
     "output_type": "execute_result"
    }
   ],
   "source": [
    "employee_count_by_company_residence= df['employee_residence'].value_counts().head(10)\n",
    "employee_count_by_company_residence"
   ]
  },
  {
   "cell_type": "code",
   "execution_count": 40,
   "id": "69508bb4",
   "metadata": {},
   "outputs": [
    {
     "data": {
      "text/plain": [
       "US    8327\n",
       "GB     533\n",
       "CA     402\n",
       "DE      97\n",
       "IN      78\n",
       "ES      78\n",
       "FR      68\n",
       "AU      50\n",
       "NL      32\n",
       "PT      30\n",
       "Name: employee_residence, dtype: int64"
      ]
     },
     "execution_count": 40,
     "metadata": {},
     "output_type": "execute_result"
    }
   ],
   "source": [
    "sorted_employee_count=employee_count_by_company_residence.sort_values(ascending=False)\n",
    "sorted_employee_count"
   ]
  },
  {
   "cell_type": "code",
   "execution_count": 41,
   "id": "2a2c21d2",
   "metadata": {},
   "outputs": [],
   "source": [
    "filter_df_top_10_countries=df[df['employee_residence'].isin(sorted_employee_count.index)]"
   ]
  },
  {
   "cell_type": "code",
   "execution_count": 42,
   "id": "1a42c0b6",
   "metadata": {
    "scrolled": true
   },
   "outputs": [
    {
     "data": {
      "text/html": [
       "<div>\n",
       "<style scoped>\n",
       "    .dataframe tbody tr th:only-of-type {\n",
       "        vertical-align: middle;\n",
       "    }\n",
       "\n",
       "    .dataframe tbody tr th {\n",
       "        vertical-align: top;\n",
       "    }\n",
       "\n",
       "    .dataframe thead th {\n",
       "        text-align: right;\n",
       "    }\n",
       "</style>\n",
       "<table border=\"1\" class=\"dataframe\">\n",
       "  <thead>\n",
       "    <tr style=\"text-align: right;\">\n",
       "      <th></th>\n",
       "      <th>work_year</th>\n",
       "      <th>experience_level</th>\n",
       "      <th>employment_type</th>\n",
       "      <th>job_title</th>\n",
       "      <th>salary</th>\n",
       "      <th>salary_currency</th>\n",
       "      <th>salary_in_usd</th>\n",
       "      <th>employee_residence</th>\n",
       "      <th>remote_ratio</th>\n",
       "      <th>company_location</th>\n",
       "      <th>company_size</th>\n",
       "    </tr>\n",
       "  </thead>\n",
       "  <tbody>\n",
       "    <tr>\n",
       "      <th>0</th>\n",
       "      <td>2024</td>\n",
       "      <td>SE</td>\n",
       "      <td>FT</td>\n",
       "      <td>AI Engineer</td>\n",
       "      <td>202730</td>\n",
       "      <td>USD</td>\n",
       "      <td>202730</td>\n",
       "      <td>US</td>\n",
       "      <td>office</td>\n",
       "      <td>US</td>\n",
       "      <td>M</td>\n",
       "    </tr>\n",
       "    <tr>\n",
       "      <th>1</th>\n",
       "      <td>2024</td>\n",
       "      <td>SE</td>\n",
       "      <td>FT</td>\n",
       "      <td>AI Engineer</td>\n",
       "      <td>92118</td>\n",
       "      <td>USD</td>\n",
       "      <td>92118</td>\n",
       "      <td>US</td>\n",
       "      <td>office</td>\n",
       "      <td>US</td>\n",
       "      <td>M</td>\n",
       "    </tr>\n",
       "    <tr>\n",
       "      <th>2</th>\n",
       "      <td>2024</td>\n",
       "      <td>SE</td>\n",
       "      <td>FT</td>\n",
       "      <td>Data Engineer</td>\n",
       "      <td>130500</td>\n",
       "      <td>USD</td>\n",
       "      <td>130500</td>\n",
       "      <td>US</td>\n",
       "      <td>office</td>\n",
       "      <td>US</td>\n",
       "      <td>M</td>\n",
       "    </tr>\n",
       "    <tr>\n",
       "      <th>3</th>\n",
       "      <td>2024</td>\n",
       "      <td>SE</td>\n",
       "      <td>FT</td>\n",
       "      <td>Data Engineer</td>\n",
       "      <td>96000</td>\n",
       "      <td>USD</td>\n",
       "      <td>96000</td>\n",
       "      <td>US</td>\n",
       "      <td>office</td>\n",
       "      <td>US</td>\n",
       "      <td>M</td>\n",
       "    </tr>\n",
       "    <tr>\n",
       "      <th>4</th>\n",
       "      <td>2024</td>\n",
       "      <td>SE</td>\n",
       "      <td>FT</td>\n",
       "      <td>ML Engineer</td>\n",
       "      <td>190000</td>\n",
       "      <td>USD</td>\n",
       "      <td>190000</td>\n",
       "      <td>US</td>\n",
       "      <td>office</td>\n",
       "      <td>US</td>\n",
       "      <td>M</td>\n",
       "    </tr>\n",
       "    <tr>\n",
       "      <th>...</th>\n",
       "      <td>...</td>\n",
       "      <td>...</td>\n",
       "      <td>...</td>\n",
       "      <td>...</td>\n",
       "      <td>...</td>\n",
       "      <td>...</td>\n",
       "      <td>...</td>\n",
       "      <td>...</td>\n",
       "      <td>...</td>\n",
       "      <td>...</td>\n",
       "      <td>...</td>\n",
       "    </tr>\n",
       "    <tr>\n",
       "      <th>16529</th>\n",
       "      <td>2020</td>\n",
       "      <td>SE</td>\n",
       "      <td>FT</td>\n",
       "      <td>Data Scientist</td>\n",
       "      <td>412000</td>\n",
       "      <td>USD</td>\n",
       "      <td>412000</td>\n",
       "      <td>US</td>\n",
       "      <td>remote</td>\n",
       "      <td>US</td>\n",
       "      <td>L</td>\n",
       "    </tr>\n",
       "    <tr>\n",
       "      <th>16530</th>\n",
       "      <td>2021</td>\n",
       "      <td>MI</td>\n",
       "      <td>FT</td>\n",
       "      <td>Principal Data Scientist</td>\n",
       "      <td>151000</td>\n",
       "      <td>USD</td>\n",
       "      <td>151000</td>\n",
       "      <td>US</td>\n",
       "      <td>remote</td>\n",
       "      <td>US</td>\n",
       "      <td>L</td>\n",
       "    </tr>\n",
       "    <tr>\n",
       "      <th>16531</th>\n",
       "      <td>2020</td>\n",
       "      <td>EN</td>\n",
       "      <td>FT</td>\n",
       "      <td>Data Scientist</td>\n",
       "      <td>105000</td>\n",
       "      <td>USD</td>\n",
       "      <td>105000</td>\n",
       "      <td>US</td>\n",
       "      <td>remote</td>\n",
       "      <td>US</td>\n",
       "      <td>S</td>\n",
       "    </tr>\n",
       "    <tr>\n",
       "      <th>16532</th>\n",
       "      <td>2020</td>\n",
       "      <td>EN</td>\n",
       "      <td>CT</td>\n",
       "      <td>Business Data Analyst</td>\n",
       "      <td>100000</td>\n",
       "      <td>USD</td>\n",
       "      <td>100000</td>\n",
       "      <td>US</td>\n",
       "      <td>remote</td>\n",
       "      <td>US</td>\n",
       "      <td>L</td>\n",
       "    </tr>\n",
       "    <tr>\n",
       "      <th>16533</th>\n",
       "      <td>2021</td>\n",
       "      <td>SE</td>\n",
       "      <td>FT</td>\n",
       "      <td>Data Science Manager</td>\n",
       "      <td>7000000</td>\n",
       "      <td>INR</td>\n",
       "      <td>94665</td>\n",
       "      <td>IN</td>\n",
       "      <td>hybrid</td>\n",
       "      <td>IN</td>\n",
       "      <td>L</td>\n",
       "    </tr>\n",
       "  </tbody>\n",
       "</table>\n",
       "<p>9695 rows × 11 columns</p>\n",
       "</div>"
      ],
      "text/plain": [
       "       work_year experience_level employment_type                 job_title  \\\n",
       "0           2024               SE              FT               AI Engineer   \n",
       "1           2024               SE              FT               AI Engineer   \n",
       "2           2024               SE              FT             Data Engineer   \n",
       "3           2024               SE              FT             Data Engineer   \n",
       "4           2024               SE              FT               ML Engineer   \n",
       "...          ...              ...             ...                       ...   \n",
       "16529       2020               SE              FT            Data Scientist   \n",
       "16530       2021               MI              FT  Principal Data Scientist   \n",
       "16531       2020               EN              FT            Data Scientist   \n",
       "16532       2020               EN              CT     Business Data Analyst   \n",
       "16533       2021               SE              FT      Data Science Manager   \n",
       "\n",
       "        salary salary_currency  salary_in_usd employee_residence remote_ratio  \\\n",
       "0       202730             USD         202730                 US       office   \n",
       "1        92118             USD          92118                 US       office   \n",
       "2       130500             USD         130500                 US       office   \n",
       "3        96000             USD          96000                 US       office   \n",
       "4       190000             USD         190000                 US       office   \n",
       "...        ...             ...            ...                ...          ...   \n",
       "16529   412000             USD         412000                 US       remote   \n",
       "16530   151000             USD         151000                 US       remote   \n",
       "16531   105000             USD         105000                 US       remote   \n",
       "16532   100000             USD         100000                 US       remote   \n",
       "16533  7000000             INR          94665                 IN       hybrid   \n",
       "\n",
       "      company_location company_size  \n",
       "0                   US            M  \n",
       "1                   US            M  \n",
       "2                   US            M  \n",
       "3                   US            M  \n",
       "4                   US            M  \n",
       "...                ...          ...  \n",
       "16529               US            L  \n",
       "16530               US            L  \n",
       "16531               US            S  \n",
       "16532               US            L  \n",
       "16533               IN            L  \n",
       "\n",
       "[9695 rows x 11 columns]"
      ]
     },
     "execution_count": 42,
     "metadata": {},
     "output_type": "execute_result"
    }
   ],
   "source": [
    "filter_df_top_10_countries"
   ]
  },
  {
   "cell_type": "code",
   "execution_count": 43,
   "id": "f98d8b28",
   "metadata": {},
   "outputs": [
    {
     "data": {
      "text/html": [
       "<div>\n",
       "<style scoped>\n",
       "    .dataframe tbody tr th:only-of-type {\n",
       "        vertical-align: middle;\n",
       "    }\n",
       "\n",
       "    .dataframe tbody tr th {\n",
       "        vertical-align: top;\n",
       "    }\n",
       "\n",
       "    .dataframe thead th {\n",
       "        text-align: right;\n",
       "    }\n",
       "</style>\n",
       "<table border=\"1\" class=\"dataframe\">\n",
       "  <thead>\n",
       "    <tr style=\"text-align: right;\">\n",
       "      <th></th>\n",
       "      <th>employee_residence</th>\n",
       "      <th>salary_in_usd</th>\n",
       "    </tr>\n",
       "  </thead>\n",
       "  <tbody>\n",
       "    <tr>\n",
       "      <th>0</th>\n",
       "      <td>AU</td>\n",
       "      <td>126885.500000</td>\n",
       "    </tr>\n",
       "    <tr>\n",
       "      <th>1</th>\n",
       "      <td>CA</td>\n",
       "      <td>143867.393035</td>\n",
       "    </tr>\n",
       "    <tr>\n",
       "      <th>2</th>\n",
       "      <td>DE</td>\n",
       "      <td>99237.113402</td>\n",
       "    </tr>\n",
       "    <tr>\n",
       "      <th>3</th>\n",
       "      <td>ES</td>\n",
       "      <td>61863.474359</td>\n",
       "    </tr>\n",
       "    <tr>\n",
       "      <th>4</th>\n",
       "      <td>FR</td>\n",
       "      <td>88330.470588</td>\n",
       "    </tr>\n",
       "    <tr>\n",
       "      <th>5</th>\n",
       "      <td>GB</td>\n",
       "      <td>96704.215760</td>\n",
       "    </tr>\n",
       "    <tr>\n",
       "      <th>6</th>\n",
       "      <td>IN</td>\n",
       "      <td>47289.961538</td>\n",
       "    </tr>\n",
       "    <tr>\n",
       "      <th>7</th>\n",
       "      <td>NL</td>\n",
       "      <td>76268.437500</td>\n",
       "    </tr>\n",
       "    <tr>\n",
       "      <th>8</th>\n",
       "      <td>PT</td>\n",
       "      <td>53920.966667</td>\n",
       "    </tr>\n",
       "    <tr>\n",
       "      <th>9</th>\n",
       "      <td>US</td>\n",
       "      <td>157087.589888</td>\n",
       "    </tr>\n",
       "  </tbody>\n",
       "</table>\n",
       "</div>"
      ],
      "text/plain": [
       "  employee_residence  salary_in_usd\n",
       "0                 AU  126885.500000\n",
       "1                 CA  143867.393035\n",
       "2                 DE   99237.113402\n",
       "3                 ES   61863.474359\n",
       "4                 FR   88330.470588\n",
       "5                 GB   96704.215760\n",
       "6                 IN   47289.961538\n",
       "7                 NL   76268.437500\n",
       "8                 PT   53920.966667\n",
       "9                 US  157087.589888"
      ]
     },
     "execution_count": 43,
     "metadata": {},
     "output_type": "execute_result"
    }
   ],
   "source": [
    "average_salary_by_top10_residence=filter_df_top_10_countries.groupby('employee_residence')['salary_in_usd'].mean().reset_index()\n",
    "average_salary_by_top10_residence"
   ]
  },
  {
   "cell_type": "code",
   "execution_count": 44,
   "id": "5a983096",
   "metadata": {},
   "outputs": [
    {
     "data": {
      "text/html": [
       "<div>\n",
       "<style scoped>\n",
       "    .dataframe tbody tr th:only-of-type {\n",
       "        vertical-align: middle;\n",
       "    }\n",
       "\n",
       "    .dataframe tbody tr th {\n",
       "        vertical-align: top;\n",
       "    }\n",
       "\n",
       "    .dataframe thead th {\n",
       "        text-align: right;\n",
       "    }\n",
       "</style>\n",
       "<table border=\"1\" class=\"dataframe\">\n",
       "  <thead>\n",
       "    <tr style=\"text-align: right;\">\n",
       "      <th></th>\n",
       "      <th>employee_residence</th>\n",
       "      <th>salary_in_usd</th>\n",
       "    </tr>\n",
       "  </thead>\n",
       "  <tbody>\n",
       "    <tr>\n",
       "      <th>9</th>\n",
       "      <td>US</td>\n",
       "      <td>157087.589888</td>\n",
       "    </tr>\n",
       "    <tr>\n",
       "      <th>1</th>\n",
       "      <td>CA</td>\n",
       "      <td>143867.393035</td>\n",
       "    </tr>\n",
       "    <tr>\n",
       "      <th>0</th>\n",
       "      <td>AU</td>\n",
       "      <td>126885.500000</td>\n",
       "    </tr>\n",
       "    <tr>\n",
       "      <th>2</th>\n",
       "      <td>DE</td>\n",
       "      <td>99237.113402</td>\n",
       "    </tr>\n",
       "    <tr>\n",
       "      <th>5</th>\n",
       "      <td>GB</td>\n",
       "      <td>96704.215760</td>\n",
       "    </tr>\n",
       "    <tr>\n",
       "      <th>4</th>\n",
       "      <td>FR</td>\n",
       "      <td>88330.470588</td>\n",
       "    </tr>\n",
       "    <tr>\n",
       "      <th>7</th>\n",
       "      <td>NL</td>\n",
       "      <td>76268.437500</td>\n",
       "    </tr>\n",
       "    <tr>\n",
       "      <th>3</th>\n",
       "      <td>ES</td>\n",
       "      <td>61863.474359</td>\n",
       "    </tr>\n",
       "    <tr>\n",
       "      <th>8</th>\n",
       "      <td>PT</td>\n",
       "      <td>53920.966667</td>\n",
       "    </tr>\n",
       "    <tr>\n",
       "      <th>6</th>\n",
       "      <td>IN</td>\n",
       "      <td>47289.961538</td>\n",
       "    </tr>\n",
       "  </tbody>\n",
       "</table>\n",
       "</div>"
      ],
      "text/plain": [
       "  employee_residence  salary_in_usd\n",
       "9                 US  157087.589888\n",
       "1                 CA  143867.393035\n",
       "0                 AU  126885.500000\n",
       "2                 DE   99237.113402\n",
       "5                 GB   96704.215760\n",
       "4                 FR   88330.470588\n",
       "7                 NL   76268.437500\n",
       "3                 ES   61863.474359\n",
       "8                 PT   53920.966667\n",
       "6                 IN   47289.961538"
      ]
     },
     "execution_count": 44,
     "metadata": {},
     "output_type": "execute_result"
    }
   ],
   "source": [
    "sorted_average_salary_by_top10_residence=average_salary_by_top10_residence.sort_values(by='salary_in_usd',ascending=False)\n",
    "sorted_average_salary_by_top10_residence\n"
   ]
  },
  {
   "cell_type": "code",
   "execution_count": 45,
   "id": "a92efdcb",
   "metadata": {},
   "outputs": [
    {
     "data": {
      "image/png": "[encoded data removed]",
      "text/plain": [
       "<Figure size 864x432 with 1 Axes>"
      ]
     },
     "metadata": {
      "needs_background": "light"
     },
     "output_type": "display_data"
    }
   ],
   "source": [
    "plt.figure(figsize=(12,6))\n",
    "ax=sns.barplot(x='employee_residence', y='salary_in_usd', data=sorted_average_salary_by_top10_residence, palette='cool_r')\n",
    "plt.xlabel('Employee Residences', fontsize=12)\n",
    "plt.ylabel('Average Salary in USD', fontsize=12)\n",
    "plt.title('Average salary across top 10 employee residences (by employee count)', fontsize=14)\n",
    "\n",
    "# to present labels on each bar in the graph.\n",
    "for container in ax.containers:\n",
    "    ax.bar_label(container, fmt='%.2f', label_type='edge', fontsize=10)\n",
    "    \n",
    "plt.tight_layout()\n",
    "plt.show()"
   ]
  },
  {
   "cell_type": "markdown",
   "id": "430f7004",
   "metadata": {},
   "source": [
    "We can see that the average salary is the highest (157K USD) in US area(employee residences) followed by CA (143K USD) and AU (126K USD) and the IN region has comparatively the least average salary (47K USD)."
   ]
  },
  {
   "cell_type": "markdown",
   "id": "67136c09",
   "metadata": {},
   "source": [
    "# 8) What are the top 5 highest-paying job titles from 2020 to 2024?"
   ]
  },
  {
   "cell_type": "code",
   "execution_count": 46,
   "id": "7cf74518",
   "metadata": {},
   "outputs": [
    {
     "data": {
      "text/html": [
       "<div>\n",
       "<style scoped>\n",
       "    .dataframe tbody tr th:only-of-type {\n",
       "        vertical-align: middle;\n",
       "    }\n",
       "\n",
       "    .dataframe tbody tr th {\n",
       "        vertical-align: top;\n",
       "    }\n",
       "\n",
       "    .dataframe thead th {\n",
       "        text-align: right;\n",
       "    }\n",
       "</style>\n",
       "<table border=\"1\" class=\"dataframe\">\n",
       "  <thead>\n",
       "    <tr style=\"text-align: right;\">\n",
       "      <th></th>\n",
       "      <th>job_title</th>\n",
       "      <th>salary_in_usd</th>\n",
       "    </tr>\n",
       "  </thead>\n",
       "  <tbody>\n",
       "    <tr>\n",
       "      <th>0</th>\n",
       "      <td>Analytics Engineering Manager</td>\n",
       "      <td>399880.000000</td>\n",
       "    </tr>\n",
       "    <tr>\n",
       "      <th>1</th>\n",
       "      <td>Data Science Tech Lead</td>\n",
       "      <td>375000.000000</td>\n",
       "    </tr>\n",
       "    <tr>\n",
       "      <th>2</th>\n",
       "      <td>Head of Machine Learning</td>\n",
       "      <td>299758.428571</td>\n",
       "    </tr>\n",
       "    <tr>\n",
       "      <th>3</th>\n",
       "      <td>Managing Director Data Science</td>\n",
       "      <td>280000.000000</td>\n",
       "    </tr>\n",
       "    <tr>\n",
       "      <th>4</th>\n",
       "      <td>AWS Data Architect</td>\n",
       "      <td>258000.000000</td>\n",
       "    </tr>\n",
       "  </tbody>\n",
       "</table>\n",
       "</div>"
      ],
      "text/plain": [
       "                        job_title  salary_in_usd\n",
       "0   Analytics Engineering Manager  399880.000000\n",
       "1          Data Science Tech Lead  375000.000000\n",
       "2        Head of Machine Learning  299758.428571\n",
       "3  Managing Director Data Science  280000.000000\n",
       "4              AWS Data Architect  258000.000000"
      ]
     },
     "execution_count": 46,
     "metadata": {},
     "output_type": "execute_result"
    }
   ],
   "source": [
    "#top 5 highest-paying job titles\n",
    "\n",
    "top_5_jobs=df.groupby('job_title')['salary_in_usd'].mean().sort_values(ascending=False).head(5).reset_index()\n",
    "top_5_jobs"
   ]
  },
  {
   "cell_type": "code",
   "execution_count": 47,
   "id": "a8fab427",
   "metadata": {},
   "outputs": [
    {
     "data": {
      "image/png": "[encoded data removed]",
      "text/plain": [
       "<Figure size 1152x648 with 1 Axes>"
      ]
     },
     "metadata": {
      "needs_background": "light"
     },
     "output_type": "display_data"
    }
   ],
   "source": [
    "plt.figure(figsize=(16,9))\n",
    "graph=plt.bar(top_5_jobs['job_title'], top_5_jobs['salary_in_usd'], color='red')\n",
    "plt.xlabel('Job title', fontsize=12)\n",
    "plt.ylabel('Average Salary in USD', fontsize=12)\n",
    "plt.title('Top five highest paying jobs', fontsize=14)\n",
    "\n",
    "for bar in graph:\n",
    "    height=bar.get_height()\n",
    "    plt.text(bar.get_x() + bar.get_width()/2.0, height, f'{height:.2f}',ha='center', va='bottom', fontsize=10)\n",
    "    \n",
    "plt.tight_layout()\n",
    "plt.show()"
   ]
  },
  {
   "cell_type": "markdown",
   "id": "5575d92d",
   "metadata": {},
   "source": [
    "It is seen that Analytics Engineering Manager has the highest average salary around 400k USD following with Data Science Tech lead, Head of Machine Learning job title, Managing Director Data Science, AWS Data Architect being the top 5"
   ]
  }
 ],
 "metadata": {
  "kernelspec": {
   "display_name": "Python 3 (ipykernel)",
   "language": "python",
   "name": "python3"
  },
  "language_info": {
   "codemirror_mode": {
    "name": "ipython",
    "version": 3
   },
   "file_extension": ".py",
   "mimetype": "text/x-python",
   "name": "python",
   "nbconvert_exporter": "python",
   "pygments_lexer": "ipython3",
   "version": "3.9.7"
  }
 },
 "nbformat": 4,
 "nbformat_minor": 5
}
